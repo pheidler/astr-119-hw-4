{
 "cells": [
  {
   "cell_type": "code",
   "execution_count": null,
   "metadata": {},
   "outputs": [],
   "source": [
    "import numpy as np\n",
    "import matplotlib.pyplot as plt"
   ]
  },
  {
   "cell_type": "code",
   "execution_count": null,
   "metadata": {},
   "outputs": [],
   "source": [
    "def func(x):\n",
    "    p1 = np.exp(-2*x)\n",
    "    p2 = np.cos(10*x)\n",
    "    \n",
    "    return p1*p2\n",
    "    "
   ]
  },
  {
   "cell_type": "code",
   "execution_count": null,
   "metadata": {},
   "outputs": [],
   "source": [
    "def trapezoid_core(f,x,h):\n",
    "    return 0.5*h*(f(x+h) + f(x))\n"
   ]
  },
  {
   "cell_type": "code",
   "execution_count": null,
   "metadata": {},
   "outputs": [],
   "source": [
    "def trapezoid_method(f,a,b,N):\n",
    "    #f: function to integrate\n",
    "    #a: lower limit of integration\n",
    "    #b: upper limt of integration\n",
    "    #N: number of function evaluations to use\n",
    "    \n",
    "    x = np.linspace(a,b,N)  #creates array of x values\n",
    "    h = x[1] - x[0]  #height for trapezoid calculation\n",
    "    \n",
    "    total = 0.0\n",
    "    \n",
    "    \n",
    "    \n",
    "    for i in range(0, len(x) - 1,1):\n",
    "        if(abs(total-RI) <= tolerance):\n",
    "            print(\"Trapezoid Iterations: \",i)\n",
    "            break\n",
    "        else:\n",
    "            \n",
    "            total += trapezoid_core(f,x[i],h)\n",
    "    \n",
    "    return total\n",
    "        \n",
    "    "
   ]
  },
  {
   "cell_type": "code",
   "execution_count": null,
   "metadata": {},
   "outputs": [],
   "source": [
    "def simpson_core(f,x,h):\n",
    "    return h*(f(x) + 4*f(x+h) + f(x+2*h))/3"
   ]
  },
  {
   "cell_type": "code",
   "execution_count": null,
   "metadata": {},
   "outputs": [],
   "source": [
    "def simpsons_method(f,a,b,N):\n",
    "    #f: function to integrate\n",
    "    #a: lower limit of integration\n",
    "    #b: upper limitof integration\n",
    "    #N: number of function evaluations to use\n",
    "    #number of chunks must be N-1\n",
    "    #\n",
    "    \n",
    "    #array of x values for Simpson's rule\n",
    "    x = np.linspace(a,b,N)\n",
    "    h = x[1] - x[0]\n",
    "    \n",
    "    total = 0.0\n",
    "    \n",
    "    for i in range(0,len(x)-2,2):\n",
    "       \n",
    "        #checks after each iteration if \n",
    "        if(abs(total-RI) <= tolerance):\n",
    "            print(\"Simpson Iterations: \",i)\n",
    "            break\n",
    "        else:\n",
    "            total += simpson_core(f,x[i],h)\n",
    "    \n",
    "    #case: if N is even\n",
    "    if((N%2)==0):\n",
    "        total += simpson_core(f,x[-2],0.5*h)\n",
    "    \n",
    "    return total"
   ]
  },
  {
   "cell_type": "code",
   "execution_count": null,
   "metadata": {},
   "outputs": [],
   "source": [
    "def romberg_core(f,a,b,i):\n",
    "    \n",
    "    h = b-a\n",
    "    \n",
    "    #increment between new function evals\n",
    "    dh = h/2.**(i)\n",
    "    \n",
    "    #cofactor\n",
    "    K = h/2.**(i+1)\n",
    "    \n",
    "    #function evaluations\n",
    "    M = 0.0\n",
    "    for j in range(2**i):\n",
    "        M += f(a + 0.5*dh + j*dh)\n",
    "    \n",
    "    return K*M\n",
    "\n",
    "    \n",
    "    "
   ]
  },
  {
   "cell_type": "code",
   "execution_count": null,
   "metadata": {},
   "outputs": [],
   "source": [
    "def romberg_integration(f,a,b,tol):\n",
    "    \n",
    "    #iteration variable\n",
    "    i = 0\n",
    "    \n",
    "    \n",
    "\n",
    "    imax = 1000\n",
    "    \n",
    "    #error estimate\n",
    "    delta = 100.0*np.fabs(tol)\n",
    "    \n",
    "    #array of integral answers\n",
    "    I = np.zeros(imax,dtype=float)\n",
    "    \n",
    "    #zeroth romberg iteration\n",
    "    I[0] = 0.5*(b-a)*(f(a) + f(b))\n",
    "    \n",
    "    i+=1\n",
    "    \n",
    "    while(delta>tol):\n",
    "        \n",
    "        #finds current iteration\n",
    "        I[i] = 0.5*I[i-1] + romberg_core(f,a,b,i)\n",
    "        \n",
    "        #computes new fractional error estimate\n",
    "        delta = np.fabs((I[i]-I[i-1])/I[i])\n",
    "        \n",
    "        #print(i,I[i],I[i-1],delta)\n",
    "        \n",
    "        if(delta>tol):\n",
    "            i += 1\n",
    "            \n",
    "            if(i>imax):\n",
    "                print(\"Max iterations reached.\")\n",
    "                raise StopIteration('Stopping iterations after ',i)\n",
    "    \n",
    "    print(\"Romberg iterations: \",i)\n",
    "    return I[i]\n",
    "    "
   ]
  },
  {
   "cell_type": "code",
   "execution_count": null,
   "metadata": {
    "scrolled": true
   },
   "outputs": [],
   "source": [
    "#Romberg\n",
    "print(\"Romberg Method:\")\n",
    "tolerance = 1.0e-6  #this calculation took way too long, could only run with e-4\n",
    "\n",
    "RI = romberg_integration(func,0,np.pi,tolerance)\n",
    "print(\"Result: \",RI)\n",
    "\n",
    "\n",
    "print(\"Trapezoid Method:\")\n",
    "print(\"Result: \",trapezoid_method(func,0,np.pi,10000))  \n",
    "print(\"Simpson's Method:\")\n",
    "print(\"Result:\",simpsons_method(func,0,np.pi,10000)) #Max iterations, likely needs more\n",
    "\n"
   ]
  },
  {
   "cell_type": "code",
   "execution_count": null,
   "metadata": {},
   "outputs": [],
   "source": []
  },
  {
   "cell_type": "code",
   "execution_count": null,
   "metadata": {},
   "outputs": [],
   "source": []
  },
  {
   "cell_type": "code",
   "execution_count": null,
   "metadata": {},
   "outputs": [],
   "source": []
  }
 ],
 "metadata": {
  "kernelspec": {
   "display_name": "Python 3",
   "language": "python",
   "name": "python3"
  },
  "language_info": {
   "codemirror_mode": {
    "name": "ipython",
    "version": 3
   },
   "file_extension": ".py",
   "mimetype": "text/x-python",
   "name": "python",
   "nbconvert_exporter": "python",
   "pygments_lexer": "ipython3",
   "version": "3.5.2"
  }
 },
 "nbformat": 4,
 "nbformat_minor": 2
}
